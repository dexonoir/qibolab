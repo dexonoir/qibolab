{
 "cells": [
  {
   "cell_type": "markdown",
   "metadata": {},
   "source": [
    "## PulseSimulator readout tutorial"
   ]
  },
  {
   "cell_type": "code",
   "execution_count": 36,
   "metadata": {},
   "outputs": [],
   "source": [
    "import os\n",
    "\n",
    "import matplotlib.pyplot as plt\n",
    "import numpy as np\n",
    "\n",
    "import qibolab\n",
    "from qibolab.pulses import PulseSequence\n"
   ]
  },
  {
   "cell_type": "markdown",
   "metadata": {},
   "source": [
    "Let's set up the platform."
   ]
  },
  {
   "cell_type": "code",
   "execution_count": 37,
   "metadata": {},
   "outputs": [
    {
     "name": "stderr",
     "output_type": "stream",
     "text": [
      "[Qibo 0.2.11|INFO|2024-10-08 22:15:42]: Loading platform ibmfakebelem_q01\n",
      "INFO:qibo.config:Loading platform ibmfakebelem_q01\n"
     ]
    }
   ],
   "source": [
    "os.environ[\"QIBOLAB_PLATFORMS\"] = (r\"..\\..\\tests\\emulators\")\n",
    "\n",
    "platform = qibolab.create_platform(\"ibmfakebelem_q01\")\n",
    "\n",
    "pi_pulse = platform.create_RX_pulse(0)\n",
    "readout_pulse = platform.create_qubit_readout_pulse(qubit=0, start=pi_pulse.finish)\n",
    "# #for two readout pulses\n",
    "# pi_pulse2 = platform.create_RX90_pulse(0, start = readout_pulse.finish)\n",
    "# readout_pulse2 = platform.create_qubit_readout_pulse(qubit=0, start=pi_pulse2.finish)\n"
   ]
  },
  {
   "cell_type": "markdown",
   "metadata": {},
   "source": [
    "Let's initialize the required parameters for readout setup. \n",
    "\n",
    "- Note that the `readout_simulator_config` consisting of the parameters for ReadoutSimulator shall be included/initialized in runcard."
   ]
  },
  {
   "cell_type": "code",
   "execution_count": 38,
   "metadata": {},
   "outputs": [],
   "source": [
    "ps = PulseSequence(*[readout_pulse])\n",
    "opts = qibolab.ExecutionParameters(\n",
    "    nshots=100,\n",
    "    relaxation_time=100e3,\n",
    "    acquisition_type=qibolab.AcquisitionType.INTEGRATION,\n",
    "    averaging_mode=qibolab.AveragingMode.SINGLESHOT,\n",
    ")"
   ]
  },
  {
   "cell_type": "markdown",
   "metadata": {},
   "source": [
    "To obtain the measurement outcome, first let's look at `gnd` object:"
   ]
  },
  {
   "cell_type": "code",
   "execution_count": 39,
   "metadata": {},
   "outputs": [
    {
     "name": "stderr",
     "output_type": "stream",
     "text": [
      "[Qibo 0.2.11|INFO|2024-10-08 22:15:42]: Minimal execution time (sequence): 0.012240000000000001\n",
      "INFO:qibo.config:Minimal execution time (sequence): 0.012240000000000001\n"
     ]
    },
    {
     "name": "stdout",
     "output_type": "stream",
     "text": [
      " Total run time:   0.01s ] Elapsed 0.01s / Remaining 00:00:00:00\n",
      "This is gnd object:\n",
      " {0: <qibolab.result.IntegratedResults object at 0x00000177DB261E40>, 'ReadoutPulse(61.117, 22400, 0.03, 7_301_661_824.000001, 0, Rectangular(), readout-0, 0)': <qibolab.result.IntegratedResults object at 0x00000177DB261E40>, 'simulation': {'sequence_duration': 13.777777777777777, 'simulation_dt': 13.6, 'simulation_time': 0.020655000116676092, 'output_states': [Quantum object: dims = [[2, 2], [2, 2]], shape = (4, 4), type = oper, isherm = True\n",
      "Qobj data =\n",
      "[[1. 0. 0. 0.]\n",
      " [0. 0. 0. 0.]\n",
      " [0. 0. 0. 0.]\n",
      " [0. 0. 0. 0.]], Quantum object: dims = [[2, 2], [2, 2]], shape = (4, 4), type = oper, isherm = True\n",
      "Qobj data =\n",
      "[[1. 0. 0. 0.]\n",
      " [0. 0. 0. 0.]\n",
      " [0. 0. 0. 0.]\n",
      " [0. 0. 0. 0.]], Quantum object: dims = [[2, 2], [2, 2]], shape = (4, 4), type = oper, isherm = True\n",
      "Qobj data =\n",
      "[[1. 0. 0. 0.]\n",
      " [0. 0. 0. 0.]\n",
      " [0. 0. 0. 0.]\n",
      " [0. 0. 0. 0.]], Quantum object: dims = [[2, 2], [2, 2]], shape = (4, 4), type = oper, isherm = True\n",
      "Qobj data =\n",
      "[[1. 0. 0. 0.]\n",
      " [0. 0. 0. 0.]\n",
      " [0. 0. 0. 0.]\n",
      " [0. 0. 0. 0.]], Quantum object: dims = [[2, 2], [2, 2]], shape = (4, 4), type = oper, isherm = True\n",
      "Qobj data =\n",
      "[[1. 0. 0. 0.]\n",
      " [0. 0. 0. 0.]\n",
      " [0. 0. 0. 0.]\n",
      " [0. 0. 0. 0.]], Quantum object: dims = [[2, 2], [2, 2]], shape = (4, 4), type = oper, isherm = True\n",
      "Qobj data =\n",
      "[[1. 0. 0. 0.]\n",
      " [0. 0. 0. 0.]\n",
      " [0. 0. 0. 0.]\n",
      " [0. 0. 0. 0.]], Quantum object: dims = [[2, 2], [2, 2]], shape = (4, 4), type = oper, isherm = True\n",
      "Qobj data =\n",
      "[[1. 0. 0. 0.]\n",
      " [0. 0. 0. 0.]\n",
      " [0. 0. 0. 0.]\n",
      " [0. 0. 0. 0.]], Quantum object: dims = [[2, 2], [2, 2]], shape = (4, 4), type = oper, isherm = True\n",
      "Qobj data =\n",
      "[[1. 0. 0. 0.]\n",
      " [0. 0. 0. 0.]\n",
      " [0. 0. 0. 0.]\n",
      " [0. 0. 0. 0.]], Quantum object: dims = [[2, 2], [2, 2]], shape = (4, 4), type = oper, isherm = True\n",
      "Qobj data =\n",
      "[[1. 0. 0. 0.]\n",
      " [0. 0. 0. 0.]\n",
      " [0. 0. 0. 0.]\n",
      " [0. 0. 0. 0.]], Quantum object: dims = [[2, 2], [2, 2]], shape = (4, 4), type = oper, isherm = True\n",
      "Qobj data =\n",
      "[[1. 0. 0. 0.]\n",
      " [0. 0. 0. 0.]\n",
      " [0. 0. 0. 0.]\n",
      " [0. 0. 0. 0.]]]}}\n",
      "This is demodulation data from gnd object:\n",
      " [  6.05278231 -6.77345759j   7.38630837 -1.69642791j\n",
      "  -5.66006861 +3.39606537j  -2.26870633 -1.36192903j\n",
      "   2.06117258 +6.56490528j   0.29225381 -1.739851j\n",
      "  -9.42817116 -2.39380988j   9.58050566 -0.45125213j\n",
      "   3.3725004  -0.98323924j   7.49392067 -4.34147872j\n",
      "  -2.36569562-16.01870746j  -2.48347485 -4.68041209j\n",
      "   1.17744038 -7.30566632j   2.17156053 +0.31478218j\n",
      "   1.5050078  +1.03443056j  -2.57982937 +4.22348515j\n",
      "  -2.54312492+11.94309056j   8.95867216 -5.75630801j\n",
      "  -0.8852933  -8.05608845j   0.57395834 +0.67901474j\n",
      "   0.16186509 -5.79164452j  -2.51891768 -0.07879709j\n",
      "  -2.03464108 +5.16774506j   0.94293826 -0.03913329j\n",
      "   4.98885527 -1.03688984j   1.29115901 -2.60703985j\n",
      "   0.39263835 -1.90406852j  -2.87572394 +4.24168539j\n",
      "  -2.60468331 +5.10453648j  -1.82729099 +1.13724587j\n",
      "  -5.31951359 +5.73847885j   3.43148303 -4.33749466j\n",
      "   1.58605728 +7.76792855j   6.24774873 +6.27408945j\n",
      "   2.16991705 +0.77763338j   0.44573264 +0.54137837j\n",
      "   4.35325445 -1.53401159j   4.87352671 -1.34403974j\n",
      "   4.23573334 -4.05893376j  -3.79229181 +6.29479422j\n",
      "  -5.05042129 +1.6307828j    2.37895156 +2.84668426j\n",
      "  -4.17064035 -4.17335119j   2.52654653 -0.54613496j\n",
      "   1.48567341 +0.73796774j   1.62535946 +3.51125586j\n",
      "   4.36057407 -1.75856664j  -3.7239906  -4.22574389j\n",
      "  -6.1196262  +0.21730615j   0.68007579 -7.25111195j\n",
      "   4.44108791 -5.65876725j  -3.7071624  -3.50561215j\n",
      "  -7.96252005 +0.85290827j   5.23014424 -2.85446077j\n",
      "   7.37050611-10.32418612j   4.94142221 +5.95418745j\n",
      "  -5.1532398  +4.71934181j   1.31847131 +1.86742721j\n",
      "   7.58774986-11.92224307j   2.95842367 -4.94351906j\n",
      "   0.17459141 -3.04377556j   5.22981905 -1.82870018j\n",
      "  -3.8350977  -1.39612341j  -1.21955233 -0.758712j\n",
      "  -0.77822018 -5.57824439j   1.78063699 +5.88075131j\n",
      "  -9.05632175 +2.90022535j   1.38797379 +0.4229052j\n",
      "   1.60056263-10.53461858j  -4.87884425 -0.45226876j\n",
      "   2.06680891 -2.70351975j   3.07355014 -2.55335899j\n",
      "   4.3712963  +0.50313208j  -0.53919979 +0.48105931j\n",
      " -11.82440821 -3.38521069j   2.73515491 -7.49077715j\n",
      "   2.51952353 -0.67272361j  -5.0092172  -8.08234164j\n",
      "  -0.12094645 +4.32345655j  -4.98392789 -2.83425444j\n",
      "  -0.59447876 +3.17073333j   6.59933921 +1.75034684j\n",
      "  -2.53537382 -6.20200851j   2.96632865 -5.55938496j\n",
      "   1.00300714 -9.32277936j  -3.80292587 -9.54057899j\n",
      "  -2.13386596 -2.24518363j  -2.41425803 -2.64891419j\n",
      "  -4.25955902 -0.89612238j  -4.99919545-14.02814984j\n",
      "  -2.08958543 +4.87547675j   0.90034582 +4.52328072j\n",
      "   8.31582735 +2.88191975j  -0.72369141 -6.45333215j\n",
      "   0.65815237 -0.96488808j   1.63646119 +1.18370829j\n",
      "   2.17585378+10.74548305j  -1.11276111-11.64387995j\n",
      "  -3.77738043 -3.91052529j   4.70779395 +4.75347545j]\n"
     ]
    }
   ],
   "source": [
    "gnd = platform.execute_pulse_sequence(ps, opts)\n",
    "print(\"This is gnd object:\\n\", gnd)\n",
    "print(\"This is demodulation data from gnd object:\\n\", gnd[0].voltage)\n"
   ]
  },
  {
   "cell_type": "markdown",
   "metadata": {},
   "source": [
    "Let's continue with introducing an RX pulse to excite the qubit, and plot the combination of results from `gnd` and `excited`:"
   ]
  },
  {
   "cell_type": "code",
   "execution_count": 40,
   "metadata": {},
   "outputs": [
    {
     "name": "stderr",
     "output_type": "stream",
     "text": [
      "[Qibo 0.2.11|INFO|2024-10-08 22:15:43]: Minimal execution time (sequence): 0.0122461117\n",
      "INFO:qibo.config:Minimal execution time (sequence): 0.0122461117\n"
     ]
    },
    {
     "name": "stdout",
     "output_type": "stream",
     "text": [
      " Total run time:   0.96s*] Elapsed 0.96s / Remaining 00:00:00:00\n"
     ]
    },
    {
     "data": {
      "image/png": "[encoded data removed]",
      "text/plain": [
       "<Figure size 640x480 with 1 Axes>"
      ]
     },
     "metadata": {},
     "output_type": "display_data"
    }
   ],
   "source": [
    "ps.add(pi_pulse)\n",
    "excited = platform.execute_pulse_sequence(ps, opts)\n",
    "\n",
    "\n",
    "i_ground = gnd[0].voltage_i\n",
    "q_ground = gnd[0].voltage_q\n",
    "\n",
    "i_excited = excited[0].voltage_i    \n",
    "q_excited = excited[0].voltage_q  \n",
    "\n",
    "# evenly distributed as measurement of ground state(excited state) results in\n",
    "# excited state(ground state) due to noise and statistical fluctuations in measurement\n",
    "plt.scatter(i_ground, q_ground, label=r\"$|0\\rangle$\")\n",
    "plt.scatter(i_excited, q_excited, label=r\"$|1\\rangle$\")\n",
    "\n",
    "plt.xlabel(r\"$V_I$ [a.u.]\")\n",
    "plt.ylabel(r\"$V_Q$ [a.u.]\")\n",
    "\n",
    "# #when scale in noise_model = 0\n",
    "# plt.xlim([0,0.8])\n",
    "\n",
    "plt.legend()\n",
    "plt.tight_layout()\n",
    "# plt.savefig(\"IQ_pulse_simulator.png\", dpi=300)\n",
    "plt.show()"
   ]
  }
 ],
 "metadata": {
  "kernelspec": {
   "display_name": "Python 3",
   "language": "python",
   "name": "python3"
  },
  "language_info": {
   "codemirror_mode": {
    "name": "ipython",
    "version": 3
   },
   "file_extension": ".py",
   "mimetype": "text/x-python",
   "name": "python",
   "nbconvert_exporter": "python",
   "pygments_lexer": "ipython3",
   "version": "3.10.7"
  }
 },
 "nbformat": 4,
 "nbformat_minor": 2
}
